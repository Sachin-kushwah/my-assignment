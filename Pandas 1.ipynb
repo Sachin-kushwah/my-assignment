{
 "cells": [
  {
   "cell_type": "code",
   "execution_count": 1,
   "id": "4155bf56-bf53-4218-897b-1ffaa94381d8",
   "metadata": {},
   "outputs": [],
   "source": [
    "import pandas as pd"
   ]
  },
  {
   "cell_type": "code",
   "execution_count": 12,
   "id": "8a79bbda-a674-4f15-8c3d-1670996d9b40",
   "metadata": {},
   "outputs": [],
   "source": [
    "#ANSWER 1;"
   ]
  },
  {
   "cell_type": "code",
   "execution_count": 3,
   "id": "6de5fe24-4c84-4b80-8001-a5a9d29677b9",
   "metadata": {},
   "outputs": [],
   "source": [
    " df=pd.Series([4,8,15,16,23,42],index=[1,2,3,4,5,6])"
   ]
  },
  {
   "cell_type": "code",
   "execution_count": 4,
   "id": "b061d8b2-58ca-4547-8585-c0284354f5fb",
   "metadata": {},
   "outputs": [
    {
     "data": {
      "text/plain": [
       "1     4\n",
       "2     8\n",
       "3    15\n",
       "4    16\n",
       "5    23\n",
       "6    42\n",
       "dtype: int64"
      ]
     },
     "execution_count": 4,
     "metadata": {},
     "output_type": "execute_result"
    }
   ],
   "source": [
    "df"
   ]
  },
  {
   "cell_type": "code",
   "execution_count": null,
   "id": "7ebeb06b-4112-46ea-9d0a-81e13a915cda",
   "metadata": {},
   "outputs": [],
   "source": [
    "#ANSWER 2:"
   ]
  },
  {
   "cell_type": "code",
   "execution_count": 7,
   "id": "9c0cb8cf-89c9-4f32-8f3c-b799da1eed5e",
   "metadata": {},
   "outputs": [],
   "source": [
    "varr=pd.Series(['sachin','kumar','golu','singh','pradip','navin','rahul','raushan','nitish','videsh'],index=[1,2,3,4,5,6,7,8,9,10])"
   ]
  },
  {
   "cell_type": "code",
   "execution_count": 8,
   "id": "1758632c-f788-4c5b-84d4-849267b6175b",
   "metadata": {},
   "outputs": [
    {
     "data": {
      "text/plain": [
       "1      sachin\n",
       "2       kumar\n",
       "3        golu\n",
       "4       singh\n",
       "5      pradip\n",
       "6       navin\n",
       "7       rahul\n",
       "8     raushan\n",
       "9      nitish\n",
       "10     videsh\n",
       "dtype: object"
      ]
     },
     "execution_count": 8,
     "metadata": {},
     "output_type": "execute_result"
    }
   ],
   "source": [
    "varr"
   ]
  },
  {
   "cell_type": "code",
   "execution_count": null,
   "id": "138e8dac-b300-4243-b39a-a2f46cc8d26b",
   "metadata": {},
   "outputs": [],
   "source": [
    "#ANSWER 3:"
   ]
  },
  {
   "cell_type": "code",
   "execution_count": 9,
   "id": "dba6f7aa-43c5-4f44-8092-d9cdfbef06b3",
   "metadata": {},
   "outputs": [],
   "source": [
    "data={'Name':['Alice','Bob','Claire'],'Age':[25,30,27],'Gender':['Female','Male','Female']}"
   ]
  },
  {
   "cell_type": "code",
   "execution_count": 10,
   "id": "c3ada88b-cd56-4137-a67d-165469f08d1d",
   "metadata": {},
   "outputs": [],
   "source": [
    "df=pd.DataFrame(data)"
   ]
  },
  {
   "cell_type": "code",
   "execution_count": 11,
   "id": "1ca5f9a7-3781-4812-8940-6caf02adfd63",
   "metadata": {},
   "outputs": [
    {
     "data": {
      "text/html": [
       "<div>\n",
       "<style scoped>\n",
       "    .dataframe tbody tr th:only-of-type {\n",
       "        vertical-align: middle;\n",
       "    }\n",
       "\n",
       "    .dataframe tbody tr th {\n",
       "        vertical-align: top;\n",
       "    }\n",
       "\n",
       "    .dataframe thead th {\n",
       "        text-align: right;\n",
       "    }\n",
       "</style>\n",
       "<table border=\"1\" class=\"dataframe\">\n",
       "  <thead>\n",
       "    <tr style=\"text-align: right;\">\n",
       "      <th></th>\n",
       "      <th>Name</th>\n",
       "      <th>Age</th>\n",
       "      <th>Gender</th>\n",
       "    </tr>\n",
       "  </thead>\n",
       "  <tbody>\n",
       "    <tr>\n",
       "      <th>0</th>\n",
       "      <td>Alice</td>\n",
       "      <td>25</td>\n",
       "      <td>Female</td>\n",
       "    </tr>\n",
       "    <tr>\n",
       "      <th>1</th>\n",
       "      <td>Bob</td>\n",
       "      <td>30</td>\n",
       "      <td>Male</td>\n",
       "    </tr>\n",
       "    <tr>\n",
       "      <th>2</th>\n",
       "      <td>Claire</td>\n",
       "      <td>27</td>\n",
       "      <td>Female</td>\n",
       "    </tr>\n",
       "  </tbody>\n",
       "</table>\n",
       "</div>"
      ],
      "text/plain": [
       "     Name  Age  Gender\n",
       "0   Alice   25  Female\n",
       "1     Bob   30    Male\n",
       "2  Claire   27  Female"
      ]
     },
     "execution_count": 11,
     "metadata": {},
     "output_type": "execute_result"
    }
   ],
   "source": [
    "df"
   ]
  },
  {
   "cell_type": "code",
   "execution_count": 14,
   "id": "57f28879-497a-458a-9078-6df15fa2a47f",
   "metadata": {},
   "outputs": [],
   "source": [
    "#ANSWER 4:\n",
    "\n",
    "\"\"\"Series have only a top level name, dataframes have a top level and a column name. That can lead to significant differences in syntax for processing/creating a new series vs a new column.\"\"\"\n",
    "\n",
    "df=pd.Series([4,8,15,16,23,42],index=[1,2,3,4,5,6])\n",
    "data={'Name':['Alice','Bob','Claire'],'Age':[25,30,27],'Gender':['Female','Male','Female']}\n",
    "df=pd.DataFrame(data)"
   ]
  },
  {
   "cell_type": "code",
   "execution_count": 15,
   "id": "542b6041-65aa-4fa0-8c66-bd277c52c57c",
   "metadata": {},
   "outputs": [],
   "source": [
    "# ANSWER 5:\n",
    "#removing special charactor\n",
    "#converting all text to lowercase\n",
    "#removing stop word"
   ]
  },
  {
   "cell_type": "code",
   "execution_count": 17,
   "id": "cce32c62-cf5d-411e-8767-082d7ff7cd72",
   "metadata": {},
   "outputs": [],
   "source": [
    "#ANSWER 6:\n",
    "#Panel\n"
   ]
  },
  {
   "cell_type": "code",
   "execution_count": null,
   "id": "a99ed114-7168-4e74-a4ef-1749ecf10db4",
   "metadata": {},
   "outputs": [],
   "source": [
    "# ANSWER 7:\n",
    "\n"
   ]
  }
 ],
 "metadata": {
  "kernelspec": {
   "display_name": "Python 3 (ipykernel)",
   "language": "python",
   "name": "python3"
  },
  "language_info": {
   "codemirror_mode": {
    "name": "ipython",
    "version": 3
   },
   "file_extension": ".py",
   "mimetype": "text/x-python",
   "name": "python",
   "nbconvert_exporter": "python",
   "pygments_lexer": "ipython3",
   "version": "3.10.8"
  }
 },
 "nbformat": 4,
 "nbformat_minor": 5
}
